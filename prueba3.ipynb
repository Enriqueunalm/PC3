{
 "cells": [
  {
   "cell_type": "code",
   "execution_count": 1,
   "id": "c1d6e485",
   "metadata": {},
   "outputs": [],
   "source": [
    "def factorial(num): \n",
    "    if num == 0: \n",
    "        return 1\n",
    "        \n",
    "    else: \n",
    "        fact = 1\n",
    "        while(num > 1): \n",
    "            fact *= num \n",
    "            num -= 1\n",
    "        return fact "
   ]
  },
  {
   "cell_type": "code",
   "execution_count": 4,
   "id": "474f37e7",
   "metadata": {},
   "outputs": [
    {
     "data": {
      "text/plain": [
       "120"
      ]
     },
     "execution_count": 4,
     "metadata": {},
     "output_type": "execute_result"
    }
   ],
   "source": [
    "factorial(5)"
   ]
  },
  {
   "cell_type": "code",
   "execution_count": null,
   "id": "179c525b",
   "metadata": {},
   "outputs": [],
   "source": []
  }
 ],
 "metadata": {
  "kernelspec": {
   "display_name": "Python 3 (ipykernel)",
   "language": "python",
   "name": "python3"
  },
  "language_info": {
   "codemirror_mode": {
    "name": "ipython",
    "version": 3
   },
   "file_extension": ".py",
   "mimetype": "text/x-python",
   "name": "python",
   "nbconvert_exporter": "python",
   "pygments_lexer": "ipython3",
   "version": "3.9.12"
  }
 },
 "nbformat": 4,
 "nbformat_minor": 5
}
